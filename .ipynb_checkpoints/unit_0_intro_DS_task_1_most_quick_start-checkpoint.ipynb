{
 "cells": [
  {
   "cell_type": "markdown",
   "metadata": {},
   "source": [
    "## Юнит 0. Проект 0. Github — Самый быстрый старт\n",
    "### 2021-03-03, Андрей Лукьянов\n",
    "\n",
    "##### Задача:\n",
    "улучшить алгоритм модуля, который угадывает загаданное компьютером целое число от 1 до 100."
   ]
  },
  {
   "cell_type": "code",
   "execution_count": 59,
   "metadata": {},
   "outputs": [
    {
     "name": "stdout",
     "output_type": "stream",
     "text": [
      "Ваш алгоритм угадывает число в среднем за 5 попыток\n"
     ]
    }
   ],
   "source": [
    "import numpy as np\n",
    "\n",
    "\n",
    "def game_core(number_to_guess: int) -> int:\n",
    "    \"\"\"\n",
    "    Function returns the number of iterations spent to guess given integer value.\n",
    "    :param number_to_guess: is integer value in range [1,100] we have to guess.\n",
    "    :return: number of iterations spent to guess given \"number\"\n",
    "    \"\"\"\n",
    "    count = 1\n",
    "    border_upper = 100\n",
    "    border_lower = 1\n",
    "    predict = 50\n",
    "    while number_to_guess != predict:\n",
    "        count += 1\n",
    "        if number_to_guess > predict:\n",
    "            border_lower = predict\n",
    "            predict += max((border_upper - predict) // 2, 1)\n",
    "        elif number_to_guess < predict:\n",
    "            border_upper = predict\n",
    "            predict -= max((predict - border_lower) // 2, 1)\n",
    "\n",
    "    return count\n",
    "\n",
    "\n",
    "def score_game(game_core: object) -> int:\n",
    "    \"\"\"\n",
    "    Wish a random number.\n",
    "    Run the given function 1000 times. Calculate average iterations required\n",
    "    to guess above random number.\n",
    "    :param game_core: the function we are going to test 1000 times;\n",
    "    :return: average number of iterations required to guess the random value.\n",
    "    \"\"\"\n",
    "    count_ls = []\n",
    "    np.random.seed(1)\n",
    "    random_array = np.random.randint(1, 101, size=1000)\n",
    "    for number in random_array:\n",
    "        count_ls.append(game_core(number))\n",
    "\n",
    "    return int(np.mean(count_ls))\n",
    "\n",
    "\n",
    "print(f\"Ваш алгоритм угадывает число в среднем за {score_game(game_core)} попыток\")\n"
   ]
  }
 ],
 "metadata": {
  "kernelspec": {
   "display_name": "Python 3",
   "language": "python",
   "name": "python3"
  },
  "language_info": {
   "codemirror_mode": {
    "name": "ipython",
    "version": 3
   },
   "file_extension": ".py",
   "mimetype": "text/x-python",
   "name": "python",
   "nbconvert_exporter": "python",
   "pygments_lexer": "ipython3",
   "version": "3.8.5"
  }
 },
 "nbformat": 4,
 "nbformat_minor": 4
}
